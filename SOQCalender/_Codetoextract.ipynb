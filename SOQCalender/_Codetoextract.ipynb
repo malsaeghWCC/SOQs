{
 "cells": [
  {
   "cell_type": "markdown",
   "id": "3ad45a0a-66ec-460e-89c4-471e84c34721",
   "metadata": {},
   "source": [
    "#  Blue Courses Analysis\n",
    "##### This script reads the Blue courses CSV, filters to Fall 2025(the semester you choose), parses date fields, and fills in missing SOQ windows by setting EvaluationStart to 14 days before a course’s end date and EvaluationEnd to 1 day before the end date. It then groups the data by Part of Term to compute each session’s earliest start, latest end, and combined SOQ window, along with a list of unique course names offered in that session. Finally, it formats the dates (weekday + month + day), renames columns , and exports the result to Excel at NEWSOQCalender.xlsx. < you can name it based w.\n"
   ]
  },
  {
   "cell_type": "code",
   "execution_count": null,
   "id": "e520d967-f731-40d2-9d21-90d4edd89416",
   "metadata": {},
   "outputs": [
    {
     "name": "stdout",
     "output_type": "stream",
     "text": [
      "The file is saved as NEWSOQCalender.xlsx'\n"
     ]
    }
   ],
   "source": [
    "import pandas as pd\n",
    "from datetime import timedelta\n",
    "\n",
    "# reading from the O drive \n",
    "df = pd.read_csv(r'O:\\data\\Blue\\BlueCourses.csv')\n",
    "\n",
    "#HERE ... first change to desired semester ***\n",
    "df = df[df['SemesterDesc'] == 'Fall 2025']\n",
    "\n",
    "def format_date(date):\n",
    "    if pd.notnull(date):\n",
    "        return date.strftime('%A, %B %d')\n",
    "    else:\n",
    "        return ''\n",
    "\n",
    "df['CourseStartDate'] = pd.to_datetime(df['CourseStartDate'])\n",
    "df['CourseEndDate'] = pd.to_datetime(df['CourseEndDate'])\n",
    "df['EvaluationStart'] = pd.to_datetime(df['EvaluationStart'], errors='coerce')\n",
    "df['EvaluationEnd'] = pd.to_datetime(df['EvaluationEnd'], errors='coerce')\n",
    "\n",
    "# Filling the NaN SOQ dates\n",
    "def fill_soq_dates(row):\n",
    "    if pd.isna(row['EvaluationStart']) or pd.isna(row['EvaluationEnd']):\n",
    "        row['EvaluationStart'] = row['CourseEndDate'] - timedelta(days=14)\n",
    "        row['EvaluationEnd'] = row['CourseEndDate'] - timedelta(days=1)\n",
    "    return row\n",
    "\n",
    "df = df.apply(fill_soq_dates, axis=1)\n",
    "\n",
    "aggregated_df = df.groupby('Part_Of_Term').agg({\n",
    "    'CourseStartDate': 'min',\n",
    "    'CourseEndDate': 'max',\n",
    "    'EvaluationStart': 'min',\n",
    "    'EvaluationEnd': 'max',\n",
    "    'CourseName': lambda x: ', '.join(x.unique())\n",
    "}).reset_index()\n",
    "\n",
    "aggregated_df['CourseStartDate'] = aggregated_df['CourseStartDate'].apply(format_date)\n",
    "aggregated_df['CourseEndDate'] = aggregated_df['CourseEndDate'].apply(format_date)\n",
    "aggregated_df['EvaluationStart'] = aggregated_df['EvaluationStart'].apply(format_date)\n",
    "aggregated_df['EvaluationEnd'] = aggregated_df['EvaluationEnd'].apply(format_date)\n",
    "\n",
    "# Renaming columns\n",
    "aggregated_df.columns = ['Part Of Term', 'Course Start Date', 'Course End Date', 'SOQ Start', 'SOQ End', 'CourseName']\n",
    "\n",
    "# Saving file\n",
    "aggregated_df.to_excel(r'C:\\Users\\malsaegh\\Desktop\\WCC\\SOQCalender\\NEWSOQCalender.xlsx', index=False)\n",
    "\n",
    "print(\"The file is saved as NEWSOQCalender.xlsx'\")\n"
   ]
  },
  {
   "cell_type": "markdown",
   "id": "713a7fa5-8c9b-4e47-9598-90e6f93a9748",
   "metadata": {},
   "source": [
    "### FINDING THE NUMBER OF POT PER SEMESTER "
   ]
  },
  {
   "cell_type": "code",
   "execution_count": 19,
   "id": "30a72570-2237-4a5d-9948-23815effc45f",
   "metadata": {},
   "outputs": [
    {
     "name": "stdout",
     "output_type": "stream",
     "text": [
      "         SemesterDesc  Part_Of_Term_Count\n",
      "0           Fall 2025                  33\n",
      "1  Spring/Summer 2025                  32\n",
      "2         Winter 2026                  30\n"
     ]
    }
   ],
   "source": [
    "import pandas as pd\n",
    "\n",
    "df = pd.read_csv(r'O:\\data\\Blue\\BlueCourses.csv')\n",
    "\n",
    "part_of_term_counts = df.groupby('SemesterDesc')['Part_Of_Term'].nunique().reset_index()\n",
    "\n",
    "part_of_term_counts.columns = ['SemesterDesc', 'Part_Of_Term_Count']\n",
    "\n",
    "print(part_of_term_counts)\n"
   ]
  },
  {
   "cell_type": "markdown",
   "id": "6641466b-4acf-434f-b9b6-4280cae81c89",
   "metadata": {},
   "source": [
    "# TESTING OTHER MISSING COURSES"
   ]
  },
  {
   "cell_type": "code",
   "execution_count": 4,
   "id": "3e87cfa9-fdf8-41f1-9178-c2fa05be4508",
   "metadata": {},
   "outputs": [
    {
     "name": "stdout",
     "output_type": "stream",
     "text": [
      "Missing courses have been written to C:\\Users\\malsaegh\\Downloads\\MissingCoursesWithFormat.xlsx\n"
     ]
    }
   ],
   "source": [
    "import pandas as pd\n",
    "\n",
    "# Load the Excel file\n",
    "file_path = r'C:\\Users\\malsaegh\\Downloads\\ComparisonPointers.xlsx'\n",
    "\n",
    "# Load the data from the sheets\n",
    "sheet1 = pd.read_excel(file_path, sheet_name='Sheet1')\n",
    "sheet2 = pd.read_excel(file_path, sheet_name='Sheet2')\n",
    "\n",
    "# Extract the numeric part of the \"Course Number\" in Sheet1\n",
    "sheet1['Numeric Course Number'] = sheet1['Course Number'].str.extract(r'W_(\\d+)P')\n",
    "\n",
    "# Get the unique course numbers from each sheet\n",
    "sheet1_courses = sheet1['Numeric Course Number'].dropna().astype(int).unique()\n",
    "sheet2_courses = sheet2['All Course Number'].dropna().astype(int).unique()\n",
    "\n",
    "# Find courses in Sheet2 that are not in Sheet1\n",
    "missing_courses = [course for course in sheet2_courses if course not in sheet1_courses]\n",
    "\n",
    "# Create a DataFrame for the missing courses, including the full \"W_...P\" format\n",
    "missing_courses_df = pd.DataFrame({\n",
    "    'Missing Course Numbers': missing_courses,\n",
    "    'Full Format': [f'W_{course}P' for course in missing_courses]\n",
    "})\n",
    "\n",
    "# Save the missing courses to a new Excel file\n",
    "output_path = r'C:\\Users\\malsaegh\\Downloads\\MissingCoursesWithFormat.xlsx'\n",
    "missing_courses_df.to_excel(output_path, index=False)\n",
    "\n",
    "print(f\"Missing courses have been written to {output_path}\")\n"
   ]
  },
  {
   "cell_type": "code",
   "execution_count": 5,
   "id": "d7b583dd-8095-42fe-bab1-7ca240af7dc7",
   "metadata": {},
   "outputs": [
    {
     "name": "stdout",
     "output_type": "stream",
     "text": [
      "Styled Word document saved to: C:\\Users\\malsaegh\\Desktop\\WCC\\SOQCalender\\s2025_fallSOQ.docx\n"
     ]
    }
   ],
   "source": [
    "import pandas as pd\n",
    "from docx import Document\n",
    "from docx.shared import Inches, Pt\n",
    "from docx.oxml import OxmlElement\n",
    "from docx.oxml.ns import qn\n",
    "from docx.enum.text import WD_ALIGN_PARAGRAPH\n",
    "from docx.enum.table import WD_TABLE_ALIGNMENT, WD_ALIGN_VERTICAL\n",
    "\n",
    "# Load Excel file\n",
    "excel_path = r'C:\\Users\\malsaegh\\Desktop\\WCC\\SOQCalender\\s2025_SpringSummerDatesSOQ.xlsx'\n",
    "df = pd.read_excel(excel_path)\n",
    "\n",
    "# Create a new Word document\n",
    "doc = Document()\n",
    "\n",
    "# Title and subtitle\n",
    "doc.add_heading('Important Dates for Spring/Summer 2025', level=1)\n",
    "\n",
    "para = doc.add_paragraph('Session Dates and\\nStudent Opinion Questionnaire (SOQ) Dates ~ ALL SOQs are ONLINE')\n",
    "para.alignment = WD_ALIGN_PARAGRAPH.LEFT\n",
    "\n",
    "# Add spacing\n",
    "doc.add_paragraph()\n",
    "\n",
    "# Define table headers\n",
    "columns = [\n",
    "    'Part Of Term',\n",
    "    'Course Start Date',\n",
    "    'Course End Date',\n",
    "    'SOQ Start',\n",
    "    'SOQ End',\n",
    "    'Session Length/Section number*'\n",
    "]\n",
    "\n",
    "# Add table\n",
    "table = doc.add_table(rows=1, cols=len(columns))\n",
    "table.style = 'Table Grid'\n",
    "table.alignment = WD_TABLE_ALIGNMENT.LEFT\n",
    "table.autofit = True\n",
    "\n",
    "# Format header row\n",
    "hdr_cells = table.rows[0].cells\n",
    "for i, col_name in enumerate(columns):\n",
    "    hdr_cells[i].text = col_name\n",
    "    paragraph = hdr_cells[i].paragraphs[0]\n",
    "    run = paragraph.runs[0]\n",
    "    run.bold = True\n",
    "    paragraph.alignment = WD_ALIGN_PARAGRAPH.CENTER\n",
    "    hdr_cells[i].vertical_alignment = WD_ALIGN_VERTICAL.CENTER\n",
    "\n",
    "    # Apply gray background shading\n",
    "    tc = hdr_cells[i]._tc\n",
    "    tcPr = tc.get_or_add_tcPr()\n",
    "    shd = OxmlElement('w:shd')\n",
    "    shd.set(qn('w:fill'), 'D9D9D9')  # light gray\n",
    "    shd.set(qn('w:val'), 'clear')\n",
    "    shd.set(qn('w:color'), 'auto')\n",
    "    tcPr.append(shd)\n",
    "\n",
    "# Add data rows\n",
    "for index, row in df.iterrows():\n",
    "    cells = table.add_row().cells\n",
    "    cells[0].text = str(row['Part Of Term'])\n",
    "    cells[1].text = str(row['Course Start Date'])\n",
    "    cells[2].text = str(row['Course End Date'])\n",
    "    cells[3].text = str(row['SOQ Start'])\n",
    "    cells[4].text = str(row['SOQ End'])\n",
    "    cells[5].text = ''  # Leave last column blank as requested\n",
    "\n",
    "    for cell in cells:\n",
    "        cell.vertical_alignment = WD_ALIGN_VERTICAL.CENTER\n",
    "        cell.paragraphs[0].alignment = WD_ALIGN_PARAGRAPH.LEFT\n",
    "        cell.paragraphs[0].runs[0].font.size = Pt(10.5)\n",
    "\n",
    "# Save the styled Word document\n",
    "output_path = r'C:\\Users\\malsaegh\\Desktop\\WCC\\SOQCalender\\s2025_fallSOQ.docx'\n",
    "doc.save(output_path)\n",
    "\n",
    "print(f\"Styled Word document saved to: {output_path}\")\n"
   ]
  },
  {
   "cell_type": "code",
   "execution_count": null,
   "id": "5b57e9d8-374f-4719-ad48-34e5143903a7",
   "metadata": {},
   "outputs": [],
   "source": []
  },
  {
   "cell_type": "code",
   "execution_count": null,
   "id": "6325777b-7dc7-41f1-86ac-012969b662ef",
   "metadata": {},
   "outputs": [],
   "source": []
  }
 ],
 "metadata": {
  "kernelspec": {
   "display_name": "Python 3",
   "language": "python",
   "name": "python3"
  },
  "language_info": {
   "codemirror_mode": {
    "name": "ipython",
    "version": 3
   },
   "file_extension": ".py",
   "mimetype": "text/x-python",
   "name": "python",
   "nbconvert_exporter": "python",
   "pygments_lexer": "ipython3",
   "version": "3.11.9"
  }
 },
 "nbformat": 4,
 "nbformat_minor": 5
}
